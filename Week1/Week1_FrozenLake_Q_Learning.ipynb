{
 "cells": [
  {
   "cell_type": "markdown",
   "id": "4a44e85e",
   "metadata": {},
   "source": [
    "# Week 1: Q-Learning on FrozenLake"
   ]
  },
  {
   "cell_type": "markdown",
   "id": "857c76b5",
   "metadata": {},
   "source": [
    "Welcome to Week 1! This week we’ll get hands-on with **Q-learning** using OpenAI Gym’s **FrozenLake-v1** environment. Your goal is to train a tabular Q-learning agent to navigate a slippery frozen lake without falling into holes."
   ]
  },
  {
   "cell_type": "markdown",
   "id": "dd99add7",
   "metadata": {},
   "source": [
    "Read about the FrozenLake environment from the openAI gymnasium website and try to solve this assignment"
   ]
  },
  {
   "cell_type": "markdown",
   "id": "27df57cf",
   "metadata": {},
   "source": [
    "## Goals"
   ]
  },
  {
   "cell_type": "markdown",
   "id": "7640e346",
   "metadata": {},
   "source": [
    "- Understand and implement Q-learning with a Q-table.\n",
    "- Use an ε-greedy exploration strategy.\n",
    "- Visualize training progress with reward curves.\n",
    "- Evaluate the learned policy.\n"
   ]
  },
  {
   "cell_type": "markdown",
   "id": "095f18d9",
   "metadata": {},
   "source": [
    "## Environment Setup"
   ]
  },
  {
   "cell_type": "code",
   "execution_count": null,
   "id": "b83ea1c0",
   "metadata": {},
   "outputs": [],
   "source": [
    "!pip install gym==0.26.2 matplotlib numpy"
   ]
  },
  {
   "cell_type": "code",
   "execution_count": null,
   "id": "939863ed",
   "metadata": {},
   "outputs": [],
   "source": [
    "import gym\n",
    "import numpy as np\n",
    "import matplotlib.pyplot as plt\n",
    "\n",
    "env = gym.make(\"FrozenLake-v1\", is_slippery=True)\n",
    "state_space_size = env.observation_space.n\n",
    "action_space_size = env.action_space.n\n",
    "Q = np.zeros((state_space_size, action_space_size))"
   ]
  },
  {
   "cell_type": "markdown",
   "id": "46fc9db4",
   "metadata": {},
   "source": [
    "## Training Loop\n",
    "Complete the training loop"
   ]
  },
  {
   "cell_type": "code",
   "execution_count": null,
   "id": "43c44821",
   "metadata": {},
   "outputs": [],
   "source": [
    "def train_agent(episodes=2000, alpha=0.8, gamma=0.95, epsilon=1.0, decay=0.995):\n",
    "    rewards = []\n",
    "    for ep in range(episodes):\n",
    "        state = env.reset()[0]\n",
    "        done = False\n",
    "        total_reward = 0\n",
    "        while not done:\n",
    "            pass\n",
    "            #TODO select action\n",
    "\n",
    "            # next_state, reward, done, _, _ = env.step(action) #uncomment this after adding algo to choose action\n",
    "            \n",
    "            #TODO Update The Q values\n",
    "            \n",
    "    \n",
    "            # state = next_state\n",
    "            # total_reward += reward\n",
    "\n",
    "        #TODO maybe try decaying epsilon between episodes\n",
    "\n",
    "        #rewards.append(total_reward)\n",
    "    return rewards"
   ]
  },
  {
   "cell_type": "markdown",
   "id": "3a650167",
   "metadata": {},
   "source": [
    "## Plotting Results"
   ]
  },
  {
   "cell_type": "code",
   "execution_count": null,
   "id": "8dbf9934",
   "metadata": {},
   "outputs": [],
   "source": [
    "rewards = train_agent()\n",
    "plt.plot(np.convolve(rewards, np.ones(100)/100, mode='valid'))\n",
    "plt.title(\"100-Episode Moving Average of Rewards\")\n",
    "plt.xlabel(\"Episode\")\n",
    "plt.ylabel(\"Average Reward\")\n",
    "plt.show()"
   ]
  },
  {
   "cell_type": "markdown",
   "id": "73350b54",
   "metadata": {},
   "source": [
    "## Test the Learned Policy"
   ]
  },
  {
   "cell_type": "code",
   "execution_count": null,
   "id": "96c85213",
   "metadata": {},
   "outputs": [],
   "source": [
    "def test_agent(Q, episodes=5):\n",
    "    for ep in range(episodes):\n",
    "        state = env.reset()[0]\n",
    "        done = False\n",
    "        print(f\"Episode {ep + 1}\")\n",
    "        while not done:\n",
    "            action = np.argmax(Q[state])\n",
    "            next_state, reward, done, _, _ = env.step(action)\n",
    "            env.render()\n",
    "            state = next_state"
   ]
  },
  {
   "cell_type": "code",
   "execution_count": null,
   "id": "385e9a4c",
   "metadata": {},
   "outputs": [],
   "source": [
    "test_agent(Q)"
   ]
  },
  {
   "cell_type": "markdown",
   "id": "9da86d73",
   "metadata": {},
   "source": [
    "## Challenges"
   ]
  },
  {
   "cell_type": "markdown",
   "id": "f0d2f674",
   "metadata": {},
   "source": [
    "1. Set `is_slippery=False` and compare performance.\n",
    "2. Change the reward for falling into holes.\n",
    "3. Add a decaying learning rate `α = α0 / (1 + decay * t)`.\n",
    "4. Visualize the Q-table as a heatmap (optional).\n",
    "5. Maybe try to think about how to generalize this to solve a random lake without pretraining on the specific environment(Post your ideas on the whatsapp group and we will host a competition if people are interested)\n"
   ]
  },
  {
   "cell_type": "markdown",
   "id": "77fa77a8",
   "metadata": {},
   "source": [
    "## TLDR"
   ]
  },
  {
   "cell_type": "markdown",
   "id": "b7b02a3e",
   "metadata": {},
   "source": [
    "Learn how to implement tabular Q-learning to solve a simple environment. Use exploration, value updates, and reward tracking to build intuition before moving to deep RL.\n",
    "\n"
   ]
  }
 ],
 "metadata": {
  "kernelspec": {
   "display_name": ".venv",
   "language": "python",
   "name": "python3"
  },
  "language_info": {
   "name": "python",
   "version": "3.13.3"
  }
 },
 "nbformat": 4,
 "nbformat_minor": 5
}
