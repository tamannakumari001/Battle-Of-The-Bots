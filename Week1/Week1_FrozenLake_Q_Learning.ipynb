{
 "cells": [
  {
   "cell_type": "markdown",
   "id": "4a44e85e",
   "metadata": {},
   "source": [
    "# Week 1: Q-Learning on FrozenLake"
   ]
  },
  {
   "cell_type": "markdown",
   "id": "857c76b5",
   "metadata": {},
   "source": [
    "Welcome to Week 1! This week we’ll get hands-on with **Q-learning** using OpenAI Gym’s **FrozenLake-v1** environment. Your goal is to train a tabular Q-learning agent to navigate a slippery frozen lake without falling into holes."
   ]
  },
  {
   "cell_type": "markdown",
   "id": "dd99add7",
   "metadata": {},
   "source": [
    "Read about the FrozenLake environment from the openAI gymnasium website and try to solve this assignment"
   ]
  },
  {
   "cell_type": "markdown",
   "id": "27df57cf",
   "metadata": {},
   "source": [
    "## Goals"
   ]
  },
  {
   "cell_type": "markdown",
   "id": "7640e346",
   "metadata": {},
   "source": [
    "- Understand and implement Q-learning with a Q-table.\n",
    "- Use an ε-greedy exploration strategy.\n",
    "- Visualize training progress with reward curves.\n",
    "- Evaluate the learned policy.\n"
   ]
  },
  {
   "cell_type": "markdown",
   "id": "095f18d9",
   "metadata": {},
   "source": [
    "## Environment Setup"
   ]
  },
  {
   "cell_type": "code",
   "execution_count": 27,
   "id": "b83ea1c0",
   "metadata": {},
   "outputs": [
    {
     "name": "stdout",
     "output_type": "stream",
     "text": [
      "Requirement already satisfied: gym==0.26.2 in /home/tamanna/Documents/Summer Of Code/Battle-Of-The-Bots/venv/lib/python3.12/site-packages (0.26.2)\n",
      "Requirement already satisfied: matplotlib in /home/tamanna/Documents/Summer Of Code/Battle-Of-The-Bots/venv/lib/python3.12/site-packages (3.10.3)\n",
      "Requirement already satisfied: numpy in /home/tamanna/Documents/Summer Of Code/Battle-Of-The-Bots/venv/lib/python3.12/site-packages (2.2.6)\n",
      "Requirement already satisfied: cloudpickle>=1.2.0 in /home/tamanna/Documents/Summer Of Code/Battle-Of-The-Bots/venv/lib/python3.12/site-packages (from gym==0.26.2) (3.1.1)\n",
      "Requirement already satisfied: gym_notices>=0.0.4 in /home/tamanna/Documents/Summer Of Code/Battle-Of-The-Bots/venv/lib/python3.12/site-packages (from gym==0.26.2) (0.0.8)\n",
      "Requirement already satisfied: contourpy>=1.0.1 in /home/tamanna/Documents/Summer Of Code/Battle-Of-The-Bots/venv/lib/python3.12/site-packages (from matplotlib) (1.3.2)\n",
      "Requirement already satisfied: cycler>=0.10 in /home/tamanna/Documents/Summer Of Code/Battle-Of-The-Bots/venv/lib/python3.12/site-packages (from matplotlib) (0.12.1)\n",
      "Requirement already satisfied: fonttools>=4.22.0 in /home/tamanna/Documents/Summer Of Code/Battle-Of-The-Bots/venv/lib/python3.12/site-packages (from matplotlib) (4.58.0)\n",
      "Requirement already satisfied: kiwisolver>=1.3.1 in /home/tamanna/Documents/Summer Of Code/Battle-Of-The-Bots/venv/lib/python3.12/site-packages (from matplotlib) (1.4.8)\n",
      "Requirement already satisfied: packaging>=20.0 in /home/tamanna/Documents/Summer Of Code/Battle-Of-The-Bots/venv/lib/python3.12/site-packages (from matplotlib) (25.0)\n",
      "Requirement already satisfied: pillow>=8 in /home/tamanna/Documents/Summer Of Code/Battle-Of-The-Bots/venv/lib/python3.12/site-packages (from matplotlib) (11.2.1)\n",
      "Requirement already satisfied: pyparsing>=2.3.1 in /home/tamanna/Documents/Summer Of Code/Battle-Of-The-Bots/venv/lib/python3.12/site-packages (from matplotlib) (3.2.3)\n",
      "Requirement already satisfied: python-dateutil>=2.7 in /home/tamanna/Documents/Summer Of Code/Battle-Of-The-Bots/venv/lib/python3.12/site-packages (from matplotlib) (2.9.0.post0)\n",
      "Requirement already satisfied: six>=1.5 in /home/tamanna/Documents/Summer Of Code/Battle-Of-The-Bots/venv/lib/python3.12/site-packages (from python-dateutil>=2.7->matplotlib) (1.17.0)\n"
     ]
    }
   ],
   "source": [
    "!pip install gym==0.26.2 matplotlib numpy"
   ]
  },
  {
   "cell_type": "code",
   "execution_count": 123,
   "id": "939863ed",
   "metadata": {},
   "outputs": [],
   "source": [
    "import gym\n",
    "import numpy as np\n",
    "import matplotlib.pyplot as plt\n",
    "\n",
    "from gym.envs.toy_text.frozen_lake import FrozenLakeEnv\n",
    "\n",
    "class CustomFrozenLakeEnv(FrozenLakeEnv):\n",
    "    def __init__(self, **kwargs):\n",
    "        super().__init__(**kwargs)\n",
    "\n",
    "    def step(self, action):\n",
    "        state, reward, done, a,b = super().step(action)\n",
    "        row, col = divmod(state, self.ncol)\n",
    "        tile = self.desc[row][col].decode(\"utf-8\")\n",
    "        if tile == 'H':\n",
    "            reward = -1  # Assign custom reward for falling into a hole\n",
    "        return state, reward, done,a,b\n",
    "\n",
    "# Usage\n",
    "env = CustomFrozenLakeEnv(is_slippery=True)\n",
    "\n",
    "state_space_size = env.observation_space.n\n",
    "action_space_size = env.action_space.n\n",
    "Q = np.zeros((state_space_size, action_space_size))"
   ]
  },
  {
   "cell_type": "markdown",
   "id": "46fc9db4",
   "metadata": {},
   "source": [
    "## Training Loop\n",
    "Complete the training loop"
   ]
  },
  {
   "cell_type": "code",
   "execution_count": null,
   "id": "43c44821",
   "metadata": {},
   "outputs": [],
   "source": [
    "def train_agent(episodes=2000, alpha=0.8, gamma=0.95, epsilon=1.0, decay=0.995):\n",
    "    rewards = []\n",
    "    for ep in range(episodes):\n",
    "        state = env.reset()[0]\n",
    "        done = False\n",
    "        total_reward = 0\n",
    "        while not done:\n",
    "            pass\n",
    "            #TODO select action\n",
    "\n",
    "            if np.random.rand() < epsilon:\n",
    "                # not effective with slip on \n",
    "                # positive_indices = np.where(Q[state, :] >= 0)[0]\n",
    "                # if len(positive_indices) > 0:\n",
    "                #     action = np.random.choice(positive_indices)\n",
    "                # else:\n",
    "                #     action = env.action_space.sample()\n",
    "                action = env.action_space.sample()\n",
    "            else:\n",
    "                action = np.argmax(Q[state, :])\n",
    "\n",
    "\n",
    "            next_state, reward, done, _, _ = env.step(action) #uncomment this after adding algo to choose action\n",
    "            \n",
    "            #TODO Update The Q values\n",
    "\n",
    "            Q[state, action] = Q[state, action] + alpha * (reward + gamma * np.max(Q[next_state, :]) - Q[state, action])\n",
    "            \n",
    "    \n",
    "            state = next_state\n",
    "            total_reward += reward\n",
    "\n",
    "        #TODO maybe try decaying epsilon between episodes\n",
    "        epsilon *= decay\n",
    "        alpha = alpha/(1+decay*ep)\n",
    "        if ep % 100 == 0:\n",
    "            print(f\"Episode {ep}, Total Reward: {total_reward}, Epsilon: {epsilon:.2f}\")\n",
    "\n",
    "        rewards.append(total_reward)\n",
    "    return rewards"
   ]
  },
  {
   "cell_type": "markdown",
   "id": "3a650167",
   "metadata": {},
   "source": [
    "## Plotting Results"
   ]
  },
  {
   "cell_type": "code",
   "execution_count": 124,
   "id": "8dbf9934",
   "metadata": {},
   "outputs": [
    {
     "name": "stdout",
     "output_type": "stream",
     "text": [
      "Episode 0, Total Reward: -1.0, Epsilon: 0.99\n",
      "Episode 100, Total Reward: -1.0, Epsilon: 0.60\n",
      "Episode 200, Total Reward: -1.0, Epsilon: 0.37\n",
      "Episode 300, Total Reward: -1.0, Epsilon: 0.22\n",
      "Episode 400, Total Reward: -1.0, Epsilon: 0.13\n",
      "Episode 500, Total Reward: -1.0, Epsilon: 0.08\n",
      "Episode 600, Total Reward: 1.0, Epsilon: 0.05\n",
      "Episode 700, Total Reward: -1.0, Epsilon: 0.03\n",
      "Episode 800, Total Reward: -1.0, Epsilon: 0.02\n",
      "Episode 900, Total Reward: -1.0, Epsilon: 0.01\n",
      "Episode 1000, Total Reward: -1.0, Epsilon: 0.01\n",
      "Episode 1100, Total Reward: -1.0, Epsilon: 0.00\n",
      "Episode 1200, Total Reward: -1.0, Epsilon: 0.00\n",
      "Episode 1300, Total Reward: 1.0, Epsilon: 0.00\n",
      "Episode 1400, Total Reward: 1.0, Epsilon: 0.00\n",
      "Episode 1500, Total Reward: 1.0, Epsilon: 0.00\n",
      "Episode 1600, Total Reward: 1.0, Epsilon: 0.00\n",
      "Episode 1700, Total Reward: -1.0, Epsilon: 0.00\n",
      "Episode 1800, Total Reward: -1.0, Epsilon: 0.00\n",
      "Episode 1900, Total Reward: 1.0, Epsilon: 0.00\n"
     ]
    },
    {
     "data": {
      "image/png": "[encoded data removed]",
      "text/plain": [
       "<Figure size 640x480 with 1 Axes>"
      ]
     },
     "metadata": {},
     "output_type": "display_data"
    }
   ],
   "source": [
    "rewards = train_agent()\n",
    "plt.plot(np.convolve(rewards, np.ones(100)/100, mode='valid'))\n",
    "plt.title(\"100-Episode Moving Average of Rewards\")\n",
    "plt.xlabel(\"Episode\")\n",
    "plt.ylabel(\"Average Reward\")\n",
    "plt.show()"
   ]
  },
  {
   "cell_type": "markdown",
   "id": "73350b54",
   "metadata": {},
   "source": [
    "## Test the Learned Policy"
   ]
  },
  {
   "cell_type": "code",
   "execution_count": null,
   "id": "96c85213",
   "metadata": {},
   "outputs": [],
   "source": [
    "def test_agent(Q, episodes=5):\n",
    "    for ep in range(episodes):\n",
    "        state = env.reset()[0]\n",
    "        done = False\n",
    "        print(f\"Episode {ep + 1}\")\n",
    "        while not done:\n",
    "            action = np.argmax(Q[state])\n",
    "            next_state, reward, done, _, _ = env.step(action)\n",
    "            env.render()\n",
    "            state = next_state\n",
    "\n"
   ]
  },
  {
   "cell_type": "code",
   "execution_count": null,
   "id": "385e9a4c",
   "metadata": {},
   "outputs": [
    {
     "name": "stdout",
     "output_type": "stream",
     "text": [
      "Episode 1\n",
      "Episode 2\n",
      "Episode 3\n",
      "Episode 4\n",
      "Episode 5\n"
     ]
    },
    {
     "name": "stderr",
     "output_type": "stream",
     "text": [
      "/home/tamanna/Documents/Summer Of Code/Battle-Of-The-Bots/venv/lib/python3.12/site-packages/gym/envs/toy_text/frozen_lake.py:271: UserWarning: \u001b[33mWARN: You are calling render method without specifying any render mode. You can specify the render_mode at initialization, e.g. gym(\"FrozenLake-v1\", render_mode=\"rgb_array\")\u001b[0m\n",
      "  logger.warn(\n"
     ]
    }
   ],
   "source": [
    "test_agent(Q)"
   ]
  },
  {
   "cell_type": "markdown",
   "id": "9da86d73",
   "metadata": {},
   "source": [
    "## Challenges"
   ]
  },
  {
   "cell_type": "markdown",
   "id": "f0d2f674",
   "metadata": {},
   "source": [
    "1. Set `is_slippery=False` and compare performance.\n",
    "2. Change the reward for falling into holes.\n",
    "3. Add a decaying learning rate `α = α0 / (1 + decay * t)`.\n",
    "4. Visualize the Q-table as a heatmap (optional).\n",
    "5. Maybe try to think about how to generalize this to solve a random lake without pretraining on the specific environment(Post your ideas on the whatsapp group and we will host a competition if people are interested)\n"
   ]
  },
  {
   "cell_type": "markdown",
   "id": "77fa77a8",
   "metadata": {},
   "source": [
    "## TLDR"
   ]
  },
  {
   "cell_type": "markdown",
   "id": "b7b02a3e",
   "metadata": {},
   "source": [
    "Learn how to implement tabular Q-learning to solve a simple environment. Use exploration, value updates, and reward tracking to build intuition before moving to deep RL.\n",
    "\n"
   ]
  }
 ],
 "metadata": {
  "kernelspec": {
   "display_name": "venv",
   "language": "python",
   "name": "python3"
  },
  "language_info": {
   "codemirror_mode": {
    "name": "ipython",
    "version": 3
   },
   "file_extension": ".py",
   "mimetype": "text/x-python",
   "name": "python",
   "nbconvert_exporter": "python",
   "pygments_lexer": "ipython3",
   "version": "3.12.3"
  }
 },
 "nbformat": 4,
 "nbformat_minor": 5
}
