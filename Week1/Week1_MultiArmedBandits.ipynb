{
 "cells": [
  {
   "cell_type": "markdown",
   "id": "d6431241",
   "metadata": {},
   "source": [
    "The Multi-Armed Bandit (MAB) is a problem where an agent chooses among several options (arms), each with an unknown reward distribution, with the goal of maximizing cumulative reward over time. There are several ways to solve this problem, including Epsilon Greedy and Upper Confidence Bound (UCB). Let’s go through both:"
   ]
  },
  {
   "cell_type": "code",
   "execution_count": null,
   "id": "fdf6fafd",
   "metadata": {},
   "outputs": [],
   "source": [
    "import numpy as np\n",
    "\n",
    "# Defining the distributions\n",
    "class Arms:\n",
    "    def __init__(self, type, param1, param2):\n",
    "        self.type = type\n",
    "        self.param1 = param1\n",
    "        self.param2 = param2\n",
    "\n",
    "    def get_reward(self):\n",
    "        if self.type == 'uniform':\n",
    "            return np.random.uniform(self.param1, self.param2)\n",
    "        if self.type == 'gaussian':\n",
    "            return np.random.normal(self.param1, self.param2)\n",
    "        if self.type == 'exponential':\n",
    "            return np.random.exponential(1.0 / self.param1)\n",
    "        if self.type == 'beta':\n",
    "            return np.random.beta(self.param1, self.param2)\n"
   ]
  },
  {
   "cell_type": "code",
   "execution_count": null,
   "id": "365aa660",
   "metadata": {},
   "outputs": [],
   "source": [
    "arm1 = Arms('uniform', 5, 10)\n",
    "arm2 = Arms('gaussian', 6, 2)\n",
    "arm3 = Arms('exponential', 1/4, 0)\n",
    "arm4 = Arms('beta', 2, 5)\n",
    "arm5 = Arms('uniform', -5, 0)\n",
    "arm6 = Arms('gaussian', 10, 6)\n",
    "arm7 = Arms('exponential', 1/7, 0)\n",
    "arm8 = Arms('beta', 5, 2) \n",
    "\n",
    "arms = [arm1, arm2, arm3, arm4, arm5, arm6, arm7, arm8]"
   ]
  },
  {
   "cell_type": "markdown",
   "id": "5251cd9a",
   "metadata": {},
   "source": [
    "In epsilon greedy, we define a number epsilon which dictates how often we explore and exploit.  \n",
    "Eploration consists of choosing a random arm and getting more information whilst exploiting is choosing the arm that you know gives the maximum rewards (based on the information you have so far)."
   ]
  },
  {
   "cell_type": "code",
   "execution_count": null,
   "id": "da77c2d7",
   "metadata": {},
   "outputs": [],
   "source": [
    "class EpsilonGreedy:\n",
    "    def __init__(self, arms, epsilon, steps):\n",
    "        self.arms = arms\n",
    "        self.epsilon = epsilon\n",
    "        self.steps = steps\n",
    "        # TODO: Initialize parameters\n",
    "        self.estimated_rewards = None # Estimated rewards of all arms\n",
    "        self.action_count = None # Number of times arm 'i' is chosen (for all arms)\n",
    "        self.total_reward = 0\n",
    "        self.rewards = []\n",
    "\n",
    "    def select_action(self):\n",
    "        # TODO: Implement epsilon greedy approach of choosing arms here\n",
    "        # Return action chosen (which arm to pick)\n",
    "        pass\n",
    "\n",
    "    def update(self, action, reward):\n",
    "        # TODO: Update estimated_rewards, action_count, total_reward, and rewards array here\n",
    "        pass\n",
    "\n",
    "    def run(self):\n",
    "        for _ in range(self.steps):\n",
    "            action = self.select_action()\n",
    "            reward = self.arms[action].get_reward()\n",
    "            self.update(action, reward)\n",
    "\n",
    "        return self.total_reward, self.estimated_rewards, self.rewards"
   ]
  },
  {
   "cell_type": "code",
   "execution_count": null,
   "id": "cb72a085",
   "metadata": {},
   "outputs": [],
   "source": [
    "steps = 1000\n",
    "epsilon = None # Play around with this value\n",
    "\n",
    "banditEG = EpsilonGreedy(arms, steps, epsilon)\n",
    "total_reward, estimated_reward, rewards = banditEG.run()\n",
    "print(f\"Total reward: {total_reward}\")\n",
    "print(f\"Estimated means: {estimated_reward}\")\n",
    "\n",
    "# TODO: Plot average rewards over time (use np.cumsum)\n"
   ]
  },
  {
   "cell_type": "markdown",
   "id": "73563e8a",
   "metadata": {},
   "source": [
    "In upper confidence bound, we have the upper confidence estimate where we use both the estimated mean and the number of times we have picked that option. The more times you have chosen something, the more certain you are of its estimated mean. Using this we have 2 terms, the estimated mean and the confidence score. The constant c dictates how much the confidence score affects our choice.\n",
    "\n",
    "$UCB_t(a) = \\hat{Q}_t(a) + c \\cdot \\sqrt{\\frac{\\ln t}{N_t(a)}}$  \n",
    "$\\hat{Q}_t(a)$ is the estimated reward. $N_t(a)$ is the number of times arm $a$ has been picked and $t$ is the timestamp"
   ]
  },
  {
   "cell_type": "code",
   "execution_count": null,
   "id": "cfb25161",
   "metadata": {},
   "outputs": [],
   "source": [
    "class UpperConfidenceBound:\n",
    "    def __init__(self, arms, steps, c):\n",
    "        self.arms = arms\n",
    "        self.steps = steps\n",
    "        self.c = c\n",
    "        # TODO: Initialize parameters\n",
    "        self.estimated_rewards = None # Estimated rewards of all arms\n",
    "        self.action_count = None # Number of times arm 'i' is chosen (for all arms)\n",
    "        self.total_reward = 0\n",
    "        self.rewards = []\n",
    "\n",
    "    def select_action(self, t):\n",
    "        # TODO: First, play each arm at least once.\n",
    "        # Compute the UCB values for each arm and choose accordingly\n",
    "        pass\n",
    "\n",
    "    def update(self, action, reward):\n",
    "        # TODO: Update estimated_rewards, action_count, total_reward, and rewards array here\n",
    "        pass\n",
    "\n",
    "    def run(self):\n",
    "        for t in range(self.steps):\n",
    "            action = self.select_action(t)\n",
    "            reward = self.arms[action].get_reward()\n",
    "            self.update(action, reward)\n",
    "\n",
    "        return self.total_reward, self.estimated_rewards, self.rewards"
   ]
  },
  {
   "cell_type": "code",
   "execution_count": null,
   "id": "e55af83b",
   "metadata": {},
   "outputs": [],
   "source": [
    "steps = 1000\n",
    "c = None # Play around with this value\n",
    "\n",
    "banditUCB = UpperConfidenceBound(arms, steps, c)\n",
    "total_reward, estimated_reward, rewards = banditEG.run()\n",
    "print(f\"Total reward: {total_reward}\")\n",
    "print(f\"Estimated means: {estimated_reward}\")\n",
    "\n",
    "# TODO: Plot average rewards over time (use np.cumsum)\n"
   ]
  },
  {
   "cell_type": "markdown",
   "id": "523ad818",
   "metadata": {},
   "source": [
    "## Optional challenges"
   ]
  },
  {
   "cell_type": "markdown",
   "id": "fd198c32",
   "metadata": {},
   "source": [
    "1. if you already know the distribution the arms draw from(eg: gaussian), can you incorporate that knowledge to learn faster\n",
    "\n",
    "We will host a competition where we will run your agents and host a leaderboard(details in the next meet)"
   ]
  },
  {
   "cell_type": "markdown",
   "id": "b2391fb0",
   "metadata": {},
   "source": []
  }
 ],
 "metadata": {
  "kernelspec": {
   "display_name": ".venv",
   "language": "python",
   "name": "python3"
  },
  "language_info": {
   "name": "python",
   "version": "3.13.3"
  }
 },
 "nbformat": 4,
 "nbformat_minor": 5
}
