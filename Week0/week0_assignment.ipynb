#this is an ipynb file to load and process the CIFAR100 dataset
